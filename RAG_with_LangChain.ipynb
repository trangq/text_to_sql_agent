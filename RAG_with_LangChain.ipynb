{
  "nbformat": 4,
  "nbformat_minor": 0,
  "metadata": {
    "colab": {
      "provenance": [],
      "include_colab_link": true
    },
    "kernelspec": {
      "name": "python3",
      "display_name": "Python 3"
    },
    "language_info": {
      "name": "python"
    }
  },
  "cells": [
    {
      "cell_type": "markdown",
      "metadata": {
        "id": "view-in-github",
        "colab_type": "text"
      },
      "source": [
        "<a href=\"https://colab.research.google.com/github/trangq/text_to_sql_agent/blob/main/RAG_with_LangChain.ipynb\" target=\"_parent\"><img src=\"https://colab.research.google.com/assets/colab-badge.svg\" alt=\"Open In Colab\"/></a>"
      ]
    },
    {
      "cell_type": "code",
      "source": [
        "!pip install -qU \\\n",
        "      python-dotenv \\\n",
        "      langchain \\\n",
        "      langchain_openai \\\n",
        "      langchain_community \\\n",
        "      langchain-huggingface \\\n",
        "      langchain-google-genai \\\n",
        "      streamlit \\\n",
        "      faiss-cpu \\\n",
        "      sentence-transformers \\\n",
        "      pypdf \\\n",
        "      docx2txt"
      ],
      "metadata": {
        "id": "vFBwQGT7z1By"
      },
      "execution_count": null,
      "outputs": []
    },
    {
      "cell_type": "code",
      "source": [
        "#Khai báo khóa API key\n",
        "from google.colab import userdata\n",
        "import os\n",
        "os.environ[\"GOOGLE_API_KEY\"]  = userdata.get('GOOGLE_API_KEY')"
      ],
      "metadata": {
        "id": "RtIkguHK24e3"
      },
      "execution_count": null,
      "outputs": []
    },
    {
      "cell_type": "markdown",
      "source": [
        "# Xây dựng chatbot đơn giãn với RAG"
      ],
      "metadata": {
        "id": "syHv-ksNKthh"
      }
    },
    {
      "cell_type": "markdown",
      "source": [
        "## Xây dựng Vector database"
      ],
      "metadata": {
        "id": "905HICk2K6lj"
      }
    },
    {
      "cell_type": "code",
      "execution_count": null,
      "metadata": {
        "id": "Edd2Ysb3Kc03"
      },
      "outputs": [],
      "source": [
        "#Tải dữ liệu từ folder (.txt)\n",
        "from langchain_community.document_loaders import DirectoryLoader, PyPDFLoader\n",
        "file_path = \"/content/drive/MyDrive/CamNang_pdf/M01_Fundamentals of Python_Python_Co_Ban_CamNang_202309.pdf\"\n",
        "loader = PyPDFLoader(file_path)\n",
        "docs = loader.load()"
      ]
    },
    {
      "cell_type": "code",
      "source": [
        "print(docs[0].page_content[:200])"
      ],
      "metadata": {
        "colab": {
          "base_uri": "https://localhost:8080/"
        },
        "id": "IlYujwL3NXna",
        "outputId": "66645b8d-113a-4825-df20-f0c7ba6bcf17"
      },
      "execution_count": null,
      "outputs": [
        {
          "output_type": "stream",
          "name": "stdout",
          "text": [
            " \n",
            " \n",
            " \n",
            " \n",
            " \n",
            " \n",
            "FUNDAMENTALS OF PYTHON \n",
            "(LẬP TRÌNH PYTHON CƠ BẢN) \n",
            "Thời gian: 5 tuần \n",
            "Thời lượng: 36 giờ, học trực �ếp trên máy \n",
            "Học phí: 2.500.000 đ \n",
            "1. MỤC TIÊU \n",
            " Khóa học cung cấp cho học viên (HV) nh\n"
          ]
        }
      ]
    },
    {
      "cell_type": "code",
      "source": [
        "from langchain_text_splitters.character import  RecursiveCharacterTextSplitter\n",
        "from langchain_community.vectorstores import FAISS\n",
        "from langchain_huggingface import HuggingFaceEmbeddings\n",
        "\n",
        "text_splitter = RecursiveCharacterTextSplitter(\n",
        "      chunk_size=400,\n",
        "      chunk_overlap=200\n",
        ")\n",
        "doc_chunks = text_splitter.split_documents(docs)\n",
        "#Embedding các chunks này và đưa vào vector store\n",
        "embeddings = HuggingFaceEmbeddings()\n",
        "vectordb = FAISS.from_documents(doc_chunks, embeddings)"
      ],
      "metadata": {
        "id": "zjo6psuDKs61",
        "colab": {
          "base_uri": "https://localhost:8080/"
        },
        "outputId": "2943f589-f115-4060-b907-0443a26a7d33"
      },
      "execution_count": null,
      "outputs": [
        {
          "output_type": "stream",
          "name": "stderr",
          "text": [
            "/usr/local/lib/python3.10/dist-packages/huggingface_hub/utils/_auth.py:94: UserWarning: \n",
            "The secret `HF_TOKEN` does not exist in your Colab secrets.\n",
            "To authenticate with the Hugging Face Hub, create a token in your settings tab (https://huggingface.co/settings/tokens), set it as secret in your Google Colab and restart your session.\n",
            "You will be able to reuse this secret in all of your notebooks.\n",
            "Please note that authentication is recommended but still optional to access public models or datasets.\n",
            "  warnings.warn(\n"
          ]
        }
      ]
    },
    {
      "cell_type": "code",
      "source": [
        "# Lưu vector store\n",
        "vectordb.save_local(\"index\")"
      ],
      "metadata": {
        "id": "tTVEtpztPeWd"
      },
      "execution_count": null,
      "outputs": []
    },
    {
      "cell_type": "markdown",
      "source": [
        "## Xây dựng chain"
      ],
      "metadata": {
        "id": "3vK_omglU8Xm"
      }
    },
    {
      "cell_type": "code",
      "source": [
        "from langchain.memory import ConversationBufferMemory\n",
        "from langchain.chains import ConversationalRetrievalChain\n",
        "from langchain_google_genai import ChatGoogleGenerativeAI\n",
        "\n",
        "llm = ChatGoogleGenerativeAI(model=\"gemini-1.5-flash\")\n",
        "retriever = vectordb.as_retriever(\n",
        "        search_kwargs={\n",
        "                  \"k\": 2, # sl kq truy vấn trả về\n",
        "    }\n",
        "    )\n",
        "memory = ConversationBufferMemory(\n",
        "        llm=llm,\n",
        "        output_key=\"answer\",\n",
        "        memory_key=\"chat_history\",\n",
        "        return_messages=True\n",
        "    )\n",
        "chain = ConversationalRetrievalChain.from_llm(\n",
        "        llm=llm,\n",
        "        retriever=retriever,\n",
        "        chain_type=\"map_reduce\",\n",
        "        memory=memory,\n",
        "        verbose=True\n",
        "    )"
      ],
      "metadata": {
        "colab": {
          "base_uri": "https://localhost:8080/"
        },
        "id": "n8U0fLQwVzT0",
        "outputId": "84573545-5953-4655-8011-f4e21b9712fb"
      },
      "execution_count": null,
      "outputs": [
        {
          "output_type": "stream",
          "name": "stderr",
          "text": [
            "<ipython-input-7-afe5c07ad5a0>:11: LangChainDeprecationWarning: Please see the migration guide at: https://python.langchain.com/docs/versions/migrating_memory/\n",
            "  memory = ConversationBufferMemory(\n"
          ]
        }
      ]
    },
    {
      "cell_type": "code",
      "source": [
        "memory.clear()\n",
        "while True:\n",
        "    user_input = input(\"user: \")\n",
        "    if user_input.lower() == \"exit\":\n",
        "        break\n",
        "\n",
        "    response = chain({\"question\": user_input, \"chat_history\": memory.chat_memory.messages})\n",
        "    assistant_response = response[\"answer\"]\n",
        "\n",
        "    print(\"assistant: \", assistant_response)"
      ],
      "metadata": {
        "colab": {
          "base_uri": "https://localhost:8080/"
        },
        "collapsed": true,
        "id": "tRZ-uD1uXYYt",
        "outputId": "4222bbf3-3c48-48fb-eb61-57c13cb26f87"
      },
      "execution_count": null,
      "outputs": [
        {
          "name": "stdout",
          "output_type": "stream",
          "text": [
            "user:  Nội dung của khóa học lập trình python cơ bản ?\n",
            "\n",
            "\n",
            "\u001b[1m> Entering new MapReduceDocumentsChain chain...\u001b[0m\n",
            "\n",
            "\n",
            "\u001b[1m> Entering new LLMChain chain...\u001b[0m\n",
            "Prompt after formatting:\n",
            "\u001b[32;1m\u001b[1;3mSystem: Use the following portion of a long document to see if any of the text is relevant to answer the question. \n",
            "Return any relevant text verbatim.\n",
            "______________________\n",
            "Science \n",
            " Tất cả những ai muốn �m hiểu về lập trình Python để ứng dụng trong công việc, học tập và cuộc \n",
            "sống. \n",
            " Điều kiện cần khi tham gia khóa học: HV có kiến thức �n học văn phòng và sử dụng Internet \n",
            "3. KẾT QUẢ ĐẠT ĐƯỢC \n",
            "Sau khi hoàn thành khóa học, học viên sẽ đạt được các kỹ năng: \n",
            " Sử dụng các cấu trúc trong ngôn ngữ lập trình Python để xây dựng ứng dụng\n",
            "Human:  Nội dung của khóa học lập trình python cơ bản ?\u001b[0m\n",
            "Prompt after formatting:\n",
            "\u001b[32;1m\u001b[1;3mSystem: Use the following portion of a long document to see if any of the text is relevant to answer the question. \n",
            "Return any relevant text verbatim.\n",
            "______________________\n",
            "có thể xây dựng các ứng dụng đơn giản bằng Python – một ngôn ngữ lập trình cấp cao, thông \n",
            "dịch, hướng đối tượng và đa mục đích.  \n",
            " Rèn luyện và phát triển kỹ năng lập trình, tư duy logic. \n",
            " Xây dựng nền tảng cơ bản vững chắc trong ngôn ngữ lập trình Python tạo �ền đề cho việc học \n",
            "các kiến thức lập trình Web, Game, Desktop, Machine Learning, Data Science… phát triển nghề \n",
            "nghiệp.\n",
            "Human:  Nội dung của khóa học lập trình python cơ bản ?\u001b[0m\n",
            "\n",
            "\u001b[1m> Finished chain.\u001b[0m\n",
            "\n",
            "\n",
            "\u001b[1m> Entering new LLMChain chain...\u001b[0m\n",
            "Prompt after formatting:\n",
            "\u001b[32;1m\u001b[1;3mSystem: Given the following extracted parts of a long document and a question, create a final answer. \n",
            "If you don't know the answer, just say that you don't know. Don't try to make up an answer.\n",
            "______________________\n",
            "Nội dung của khóa học không được cung cấp đầy đủ trong đoạn văn bản.  Tuy nhiên, đoạn văn bản cho biết khóa học sẽ dạy học viên:\n",
            "\n",
            "* Sử dụng các cấu trúc trong ngôn ngữ lập trình Python để xây dựng ứng dụng\n",
            "\n",
            "\n",
            "có thể xây dựng các ứng dụng đơn giản bằng Python – một ngôn ngữ lập trình cấp cao, thông dịch, hướng đối tượng và đa mục đích.  \n",
            " Rèn luyện và phát triển kỹ năng lập trình, tư duy logic. \n",
            " Xây dựng nền tảng cơ bản vững chắc trong ngôn ngữ lập trình Python tạo nền đề cho việc học các kiến thức lập trình Web, Game, Desktop, Machine Learning, Data Science… phát triển nghề nghiệp.\n",
            "\n",
            "Human:  Nội dung của khóa học lập trình python cơ bản ?\u001b[0m\n",
            "\n",
            "\u001b[1m> Finished chain.\u001b[0m\n",
            "\n",
            "\u001b[1m> Finished chain.\u001b[0m\n",
            "assistant:  Khóa học dạy học viên sử dụng cấu trúc trong Python để xây dựng ứng dụng đơn giản.  Nó cũng rèn luyện kỹ năng lập trình, tư duy logic, và xây dựng nền tảng cơ bản trong Python để học về lập trình web, game, desktop, machine learning, và data science.  Tuy nhiên, nội dung khóa học không được mô tả đầy đủ.\n",
            "\n",
            "user: Mục tiêu của nó là gì ?\n",
            "\n",
            "\n",
            "\u001b[1m> Entering new LLMChain chain...\u001b[0m\n",
            "Prompt after formatting:\n",
            "\u001b[32;1m\u001b[1;3mGiven the following conversation and a follow up question, rephrase the follow up question to be a standalone question, in its original language.\n",
            "\n",
            "Chat History:\n",
            "\n",
            "Human:  Nội dung của khóa học lập trình python cơ bản ?\n",
            "Assistant: Khóa học dạy học viên sử dụng cấu trúc trong Python để xây dựng ứng dụng đơn giản.  Nó cũng rèn luyện kỹ năng lập trình, tư duy logic, và xây dựng nền tảng cơ bản trong Python để học về lập trình web, game, desktop, machine learning, và data science.  Tuy nhiên, nội dung khóa học không được mô tả đầy đủ.\n",
            "\n",
            "Follow Up Input: Mục tiêu của nó là gì ?\n",
            "Standalone question:\u001b[0m\n",
            "\n",
            "\u001b[1m> Finished chain.\u001b[0m\n",
            "\n",
            "\n",
            "\u001b[1m> Entering new MapReduceDocumentsChain chain...\u001b[0m\n",
            "\n",
            "\n",
            "\u001b[1m> Entering new LLMChain chain...\u001b[0m\n",
            "Prompt after formatting:\n",
            "\u001b[32;1m\u001b[1;3mSystem: Use the following portion of a long document to see if any of the text is relevant to answer the question. \n",
            "Return any relevant text verbatim.\n",
            "______________________\n",
            "Science \n",
            " Tất cả những ai muốn �m hiểu về lập trình Python để ứng dụng trong công việc, học tập và cuộc \n",
            "sống. \n",
            " Điều kiện cần khi tham gia khóa học: HV có kiến thức �n học văn phòng và sử dụng Internet \n",
            "3. KẾT QUẢ ĐẠT ĐƯỢC \n",
            "Sau khi hoàn thành khóa học, học viên sẽ đạt được các kỹ năng: \n",
            " Sử dụng các cấu trúc trong ngôn ngữ lập trình Python để xây dựng ứng dụng\n",
            "Human: Mục tiêu của khóa học lập trình Python cơ bản là gì?\n",
            "\u001b[0m\n",
            "Prompt after formatting:\n",
            "\u001b[32;1m\u001b[1;3mSystem: Use the following portion of a long document to see if any of the text is relevant to answer the question. \n",
            "Return any relevant text verbatim.\n",
            "______________________\n",
            "có thể xây dựng các ứng dụng đơn giản bằng Python – một ngôn ngữ lập trình cấp cao, thông \n",
            "dịch, hướng đối tượng và đa mục đích.  \n",
            " Rèn luyện và phát triển kỹ năng lập trình, tư duy logic. \n",
            " Xây dựng nền tảng cơ bản vững chắc trong ngôn ngữ lập trình Python tạo �ền đề cho việc học \n",
            "các kiến thức lập trình Web, Game, Desktop, Machine Learning, Data Science… phát triển nghề \n",
            "nghiệp.\n",
            "Human: Mục tiêu của khóa học lập trình Python cơ bản là gì?\n",
            "\u001b[0m\n",
            "\n",
            "\u001b[1m> Finished chain.\u001b[0m\n",
            "\n",
            "\n",
            "\u001b[1m> Entering new LLMChain chain...\u001b[0m\n",
            "Prompt after formatting:\n",
            "\u001b[32;1m\u001b[1;3mSystem: Given the following extracted parts of a long document and a question, create a final answer. \n",
            "If you don't know the answer, just say that you don't know. Don't try to make up an answer.\n",
            "______________________\n",
            " Tất cả những ai muốn �m hiểu về lập trình Python để ứng dụng trong công việc, học tập và cuộc sống.\n",
            "Sau khi hoàn thành khóa học, học viên sẽ đạt được các kỹ năng: \n",
            " Sử dụng các cấu trúc trong ngôn ngữ lập trình Python để xây dựng ứng dụng\n",
            "\n",
            "\n",
            " Rèn luyện và phát triển kỹ năng lập trình, tư duy logic. \n",
            " Xây dựng nền tảng cơ bản vững chắc trong ngôn ngữ lập trình Python tạo tiền đề cho việc học các kiến thức lập trình Web, Game, Desktop, Machine Learning, Data Science… phát triển nghề nghiệp.\n",
            "\n",
            "Human: Mục tiêu của khóa học lập trình Python cơ bản là gì?\n",
            "\u001b[0m\n",
            "\n",
            "\u001b[1m> Finished chain.\u001b[0m\n",
            "\n",
            "\u001b[1m> Finished chain.\u001b[0m\n",
            "assistant:  Mục tiêu của khóa học là giúp học viên hiểu lập trình Python để ứng dụng trong công việc, học tập và cuộc sống;  sử dụng các cấu trúc Python để xây dựng ứng dụng; rèn luyện kỹ năng lập trình và tư duy logic; và xây dựng nền tảng vững chắc trong Python để học các kiến thức lập trình Web, Game, Desktop, Machine Learning, Data Science.\n",
            "\n",
            "user: exit\n"
          ]
        }
      ]
    },
    {
      "cell_type": "code",
      "source": [
        "memory.chat_memory.messages"
      ],
      "metadata": {
        "id": "QNBV6ERTKtIa",
        "colab": {
          "base_uri": "https://localhost:8080/"
        },
        "collapsed": true,
        "outputId": "82fe9f30-63dd-450e-8ff0-59217c4eb082"
      },
      "execution_count": null,
      "outputs": [
        {
          "output_type": "execute_result",
          "data": {
            "text/plain": [
              "[HumanMessage(content=' Nội dung của khóa học lập trình python cơ bản ?', additional_kwargs={}, response_metadata={}),\n",
              " AIMessage(content='Khóa học dạy học viên sử dụng cấu trúc trong Python để xây dựng ứng dụng đơn giản.  Nó cũng rèn luyện kỹ năng lập trình, tư duy logic, và xây dựng nền tảng cơ bản trong Python để học về lập trình web, game, desktop, machine learning, và data science.  Tuy nhiên, nội dung khóa học không được mô tả đầy đủ.\\n', additional_kwargs={}, response_metadata={}),\n",
              " HumanMessage(content='Mục tiêu của nó là gì ?', additional_kwargs={}, response_metadata={}),\n",
              " AIMessage(content='Mục tiêu của khóa học là giúp học viên hiểu lập trình Python để ứng dụng trong công việc, học tập và cuộc sống;  sử dụng các cấu trúc Python để xây dựng ứng dụng; rèn luyện kỹ năng lập trình và tư duy logic; và xây dựng nền tảng vững chắc trong Python để học các kiến thức lập trình Web, Game, Desktop, Machine Learning, Data Science.\\n', additional_kwargs={}, response_metadata={})]"
            ]
          },
          "metadata": {},
          "execution_count": 26
        }
      ]
    }
  ]
}